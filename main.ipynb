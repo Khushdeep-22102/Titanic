{
 "cells": [
  {
   "cell_type": "code",
   "execution_count": 4,
   "metadata": {},
   "outputs": [
    {
     "name": "stdout",
     "output_type": "stream",
     "text": [
      "   PassengerId  Survived  Pclass  \\\n",
      "0            1         0       3   \n",
      "1            2         1       1   \n",
      "2            3         1       3   \n",
      "3            4         1       1   \n",
      "4            5         0       3   \n",
      "\n",
      "                                                Name     Sex   Age  SibSp  \\\n",
      "0                            Braund, Mr. Owen Harris    male  22.0      1   \n",
      "1  Cumings, Mrs. John Bradley (Florence Briggs Th...  female  38.0      1   \n",
      "2                             Heikkinen, Miss. Laina  female  26.0      0   \n",
      "3       Futrelle, Mrs. Jacques Heath (Lily May Peel)  female  35.0      1   \n",
      "4                           Allen, Mr. William Henry    male  35.0      0   \n",
      "\n",
      "   Parch            Ticket     Fare Cabin Embarked  \n",
      "0      0         A/5 21171   7.2500   NaN        S  \n",
      "1      0          PC 17599  71.2833   C85        C  \n",
      "2      0  STON/O2. 3101282   7.9250   NaN        S  \n",
      "3      0            113803  53.1000  C123        S  \n",
      "4      0            373450   8.0500   NaN        S  \n",
      "   PassengerId  Pclass                                          Name     Sex  \\\n",
      "0          892       3                              Kelly, Mr. James    male   \n",
      "1          893       3              Wilkes, Mrs. James (Ellen Needs)  female   \n",
      "2          894       2                     Myles, Mr. Thomas Francis    male   \n",
      "3          895       3                              Wirz, Mr. Albert    male   \n",
      "4          896       3  Hirvonen, Mrs. Alexander (Helga E Lindqvist)  female   \n",
      "\n",
      "    Age  SibSp  Parch   Ticket     Fare Cabin Embarked  \n",
      "0  34.5      0      0   330911   7.8292   NaN        Q  \n",
      "1  47.0      1      0   363272   7.0000   NaN        S  \n",
      "2  62.0      0      0   240276   9.6875   NaN        Q  \n",
      "3  27.0      0      0   315154   8.6625   NaN        S  \n",
      "4  22.0      1      1  3101298  12.2875   NaN        S  \n"
     ]
    }
   ],
   "source": [
    "import pandas as pd\n",
    "\n",
    "# Load train and test datasets\n",
    "train_df = pd.read_csv(\"train.csv\")\n",
    "test_df = pd.read_csv(\"test.csv\")\n",
    "\n",
    "# Display first 5 rows of train set\n",
    "print(train_df.head())\n",
    "print(test_df.head())\n"
   ]
  },
  {
   "cell_type": "code",
   "execution_count": 5,
   "metadata": {},
   "outputs": [
    {
     "name": "stdout",
     "output_type": "stream",
     "text": [
      "+--------+------+---+----+-------+\n",
      "|Survived|Pclass|Sex| Age|   Fare|\n",
      "+--------+------+---+----+-------+\n",
      "|       0|     3|  1|22.0|   7.25|\n",
      "|       1|     1|  0|38.0|71.2833|\n",
      "|       1|     3|  0|26.0|  7.925|\n",
      "|       1|     1|  0|35.0|   53.1|\n",
      "|       0|     3|  1|35.0|   8.05|\n",
      "+--------+------+---+----+-------+\n",
      "only showing top 5 rows\n",
      "\n",
      "+------+---+----+-------+\n",
      "|Pclass|Sex| Age|   Fare|\n",
      "+------+---+----+-------+\n",
      "|     3|  1|34.5| 7.8292|\n",
      "|     3|  0|47.0|    7.0|\n",
      "|     2|  1|62.0| 9.6875|\n",
      "|     3|  1|27.0| 8.6625|\n",
      "|     3|  0|22.0|12.2875|\n",
      "+------+---+----+-------+\n",
      "only showing top 5 rows\n",
      "\n"
     ]
    }
   ],
   "source": [
    "from pyspark.sql import SparkSession\n",
    "from pyspark.sql.functions import col, when\n",
    "\n",
    "# Initialize Spark\n",
    "spark = SparkSession.builder.appName(\"TitanicPreprocessing\").getOrCreate()\n",
    "\n",
    "# Load datasets\n",
    "train_spark = spark.read.csv(\"train.csv\", header=True, inferSchema=True)\n",
    "test_spark = spark.read.csv(\"test.csv\", header=True, inferSchema=True)\n",
    "\n",
    "# Select important features\n",
    "train_spark = train_spark.select(\"Survived\", \"Pclass\", \"Sex\", \"Age\", \"Fare\")\n",
    "test_spark = test_spark.select(\"Pclass\", \"Sex\", \"Age\", \"Fare\")  # No \"Survived\" in test\n",
    "\n",
    "# Convert categorical 'Sex' column\n",
    "train_spark = train_spark.withColumn(\"Sex\", when(col(\"Sex\") == \"male\", 1).otherwise(0))\n",
    "test_spark = test_spark.withColumn(\"Sex\", when(col(\"Sex\") == \"male\", 1).otherwise(0))\n",
    "\n",
    "train_spark.show(5)\n",
    "test_spark.show(5)\n"
   ]
  },
  {
   "cell_type": "code",
   "execution_count": 7,
   "metadata": {},
   "outputs": [
    {
     "name": "stderr",
     "output_type": "stream",
     "text": [
      "2025/02/16 16:20:44 INFO mlflow.tracking.fluent: Experiment with name 'Titanic-Experiments' does not exist. Creating a new experiment.\n",
      "2025/02/16 16:21:15 WARNING mlflow.models.model: Model logged without a signature and input example. Please set `input_example` parameter when logging the model to auto infer the model signature.\n"
     ]
    }
   ],
   "source": [
    "import mlflow\n",
    "import mlflow.sklearn\n",
    "from sklearn.model_selection import train_test_split\n",
    "from sklearn.ensemble import RandomForestClassifier\n",
    "from sklearn.metrics import accuracy_score\n",
    "from sklearn.preprocessing import LabelEncoder\n",
    "\n",
    "# Convert categorical column 'Sex' to numerical\n",
    "train_df[\"Sex\"] = LabelEncoder().fit_transform(train_df[\"Sex\"])\n",
    "\n",
    "# Drop missing values\n",
    "train_df = train_df.dropna()\n",
    "\n",
    "# Define features & target\n",
    "X = train_df[[\"Pclass\", \"Sex\", \"Age\", \"Fare\"]]\n",
    "y = train_df[\"Survived\"]\n",
    "\n",
    "# Split data\n",
    "X_train, X_test, y_train, y_test = train_test_split(X, y, test_size=0.2, random_state=42)\n",
    "\n",
    "# Setup MLflow\n",
    "mlflow.set_experiment(\"Titanic-Experiments\")\n",
    "\n",
    "with mlflow.start_run():\n",
    "    model = RandomForestClassifier(n_estimators=100, random_state=42)\n",
    "    model.fit(X_train, y_train)\n",
    "    preds = model.predict(X_test)\n",
    "\n",
    "    acc = accuracy_score(y_test, preds)\n",
    "    mlflow.log_metric(\"accuracy\", acc)\n",
    "    \n",
    "    mlflow.sklearn.log_model(model, \"model\")\n"
   ]
  },
  {
   "cell_type": "code",
   "execution_count": null,
   "metadata": {},
   "outputs": [],
   "source": []
  }
 ],
 "metadata": {
  "kernelspec": {
   "display_name": "Python 3",
   "language": "python",
   "name": "python3"
  },
  "language_info": {
   "codemirror_mode": {
    "name": "ipython",
    "version": 3
   },
   "file_extension": ".py",
   "mimetype": "text/x-python",
   "name": "python",
   "nbconvert_exporter": "python",
   "pygments_lexer": "ipython3",
   "version": "3.11.9"
  }
 },
 "nbformat": 4,
 "nbformat_minor": 2
}
